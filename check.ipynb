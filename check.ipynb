{
 "cells": [
  {
   "cell_type": "code",
   "execution_count": null,
   "metadata": {},
   "outputs": [],
   "source": [
    "English = int ( input (\"Enter the marks in English\"))\n",
    "Math = int ( input (\"Enter the marks in Math\"))\n",
    "Science = int ( input (\"Enter the marks in Science\"))\n",
    "S_Science = int ( input (\"Enter the marks in S_Science\"))\n",
    "Skills = int ( input (\"Enter the marks in Skillsh\"))\n",
    "\n",
    "Total_Marks =( English + Math + Science + S_Science + Skills )\n",
    "print (f\"Total Marks is {Total_Marks}\")\n",
    "\n",
    "Percentage = ( English + Math + Science + S_Science + Skills )/500 *100\n",
    "print (\"The total Percentage is  %.2f\"%Percentage)\n",
    "\n",
    "if Percentage > 90: print (\"Grade A\")\n",
    "elif Percentage <= 90 or Percentage > 80: print (\"Grade B\")\n",
    "elif Percentage  > 70 or Percentage >= 80: print (\"Grade B\")\n",
    "elif Percentage <=70 or Percentage > 60: print (\"Grade C\")\n",
    "elif Percentage <=60 : print (\"Grade D\")"
   ]
  },
  {
   "cell_type": "code",
   "execution_count": null,
   "metadata": {},
   "outputs": [],
   "source": [
    "price = int (input (\"Enter the price of a car\"))\n",
    "if (price > 100000):\n",
    "    tax = (15/100)*100000\n",
    "    print (f\"The Road tax is {tax}\")\n",
    "elif (price > 50000 or price <= 100000):\n",
    "    tax = (10/100)*100000\n",
    "    print (f\"The Road tax is {tax}\")\n",
    "elif (price <= 50000):\n",
    "    tax = (5/100)*100000\n",
    "    print (f\"The Road tax is {tax}\")"
   ]
  },
  {
   "cell_type": "code",
   "execution_count": null,
   "metadata": {},
   "outputs": [],
   "source": [
    "City = input (\"Enter the Name of city to check monument of that city\")\n",
    "if (City.lower() == \"delhi\"):\n",
    "    print(f\"The monument if {City} is RED FORT\")\n",
    "elif (City.lower() == \"agra\"):\n",
    "    print(f\"The monument if {City} isTAJ MAHAL\")\n",
    "elif (City.lower() == \"jaipur\"):\n",
    "    print(f\"The monument if {City} is Jal Mahal\")\n"
   ]
  },
  {
   "cell_type": "code",
   "execution_count": null,
   "metadata": {},
   "outputs": [],
   "source": [
    "num = int (input(\"Enter the number\"))\n",
    "n=num\n",
    "count =0\n",
    "while n >= 10:\n",
    "    n = n/ 3\n",
    "    count= count+1\n",
    "print (f\"The {num} is divided by 3 '{count}'times and the vale is %.3f\"%n)"
   ]
  },
  {
   "cell_type": "code",
   "execution_count": null,
   "metadata": {},
   "outputs": [],
   "source": [
    "#why while loop is used and when ?\n",
    "#A while loop in Python is used when you want to repeat a block of code as long as a certain condition is true.\n",
    "\n",
    "#Indefinite iteration\n",
    "#Flexibility\n",
    "#User input\n",
    "count = 0\n",
    "\n",
    "while count < 5:\n",
    "  print(\"Count:\", count)\n",
    "  count += 1\n"
   ]
  },
  {
   "cell_type": "code",
   "execution_count": null,
   "metadata": {},
   "outputs": [],
   "source": [
    "# Use a while loop to print reverse number from 10-0\n",
    "number = 10\n",
    "while number >= 0:\n",
    "    print(number)\n",
    "    number-=1"
   ]
  }
 ],
 "metadata": {
  "kernelspec": {
   "display_name": "Python 3",
   "language": "python",
   "name": "python3"
  },
  "language_info": {
   "codemirror_mode": {
    "name": "ipython",
    "version": 3
   },
   "file_extension": ".py",
   "mimetype": "text/x-python",
   "name": "python",
   "nbconvert_exporter": "python",
   "pygments_lexer": "ipython3",
   "version": "3.12.3"
  }
 },
 "nbformat": 4,
 "nbformat_minor": 2
}
